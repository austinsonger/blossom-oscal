{
 "cells": [
  {
   "cell_type": "markdown",
   "metadata": {},
   "source": [
    "#### 1. Create environment to run notebook (this allows to keep dependencies local and avoid conflicts)\n",
    "\n",
    "```\n",
    "python3 -m venv ./.venv\n",
    "```\n",
    "#### 2. Activate environment to install dependencies from terminal\n",
    "\n",
    "```\n",
    "source ./venv/bin/activate\n",
    "```\n",
    "\n",
    "#### 3. If you have not installed the notebook required packages, run the following command \n",
    "\n",
    "\n",
    "#### 4. If you use VS-Code - click Select Kernel, choose Python Environments, and select the environment you configured either directly invoking PIP3\n",
    "\n",
    "```\n",
    "pip3 install -r /Users/dac4/github/blossom-oscal/build/py/requirements.txt\n",
    "```\n",
    "\n",
    "#### or alternatively invoking PIP internal to Python 3\n",
    "\n",
    "```\n",
    "python3 -m pip install -r /Users/dac4/github/blossom-oscal/build/py/requirements.txt\n",
    "```"
   ]
  },
  {
   "cell_type": "markdown",
   "metadata": {},
   "source": [
    "#### Import Libraries\n"
   ]
  },
  {
   "cell_type": "code",
   "execution_count": 1,
   "metadata": {},
   "outputs": [],
   "source": [
    "import os, sys\n",
    "import chevron\n",
    "import json\n",
    "import datetime\n",
    "from pathlib import Path\n",
    "from yaml import safe_load,YAMLError,dump\n",
    "\n",
    "from oscalic.system_security_plan import SystemSecurityPlan as SSP\n",
    "from oscalic.control import ControlAssembly as Control\n",
    "from oscalic import Template, Helper, Validation\n",
    "\n",
    "error_condition = None"
   ]
  },
  {
   "cell_type": "markdown",
   "metadata": {},
   "source": [
    "#### Setup tracking and context variables inside of the static Config"
   ]
  },
  {
   "cell_type": "code",
   "execution_count": 3,
   "metadata": {},
   "outputs": [
    {
     "name": "stdout",
     "output_type": "stream",
     "text": [
      "len(Config.partials)=47\n",
      "\t1.\tra-5.11.yaml\n",
      "\t2.\ttemplate.profile.yaml\n",
      "\t3.\tac-17.2.yaml\n",
      "\t4.\ttemplate.ssp.yaml\n",
      "\t5.\tsc-7.5.yaml\n",
      "\t6.\ttemplate.yaml\n",
      "\t7.\tau-3.1.yaml\n",
      "\t8.\tac-2.1.yaml\n",
      "\t9.\tac-6.7.yaml\n",
      "\t10.\tsc-7.4.yaml\n",
      "\t11.\tac-17.3.yaml\n",
      "\t12.\tsc-5.yaml\n",
      "\t13.\tsc-7.8.yaml\n",
      "\t14.\tra-5.yaml\n",
      "\t15.\tsc-7.3.yaml\n",
      "\t16.\tac-6.yaml\n",
      "\t17.\tsc-2.yaml\n",
      "\t18.\tia-2.1.yaml\n",
      "\t19.\tia-2.12.yaml\n",
      "\t20.\tac-17.4.yaml\n",
      "\t21.\tac-7.yaml\n",
      "\t22.\tac-6.1.yaml\n",
      "\t23.\tau-12.yaml\n",
      "\t24.\tac-2.5.yaml\n",
      "\t25.\tac-6.2.yaml\n",
      "\t26.\tac-17.yaml\n",
      "\t27.\tac-8.yaml\n",
      "\t28.\tia-2.2.yaml\n",
      "\t29.\tac-2.4.yaml\n",
      "\t30.\tra-5.2.yaml\n",
      "\t31.\tac-2.13.yaml\n",
      "\t32.\tac-2.yaml\n",
      "\t33.\tau-3.yaml\n",
      "\t34.\tra-5.5.yaml\n",
      "\t35.\tac-2.3.yaml\n",
      "\t36.\tsc-7.7.yaml\n",
      "\t37.\tia-2.yaml\n",
      "\t38.\tia-2.8.yaml\n",
      "\t39.\tac-6.5.yaml\n",
      "\t40.\tac-2.2.yaml\n",
      "\t41.\tau-2.yaml\n",
      "\t42.\tsa-11.yaml\n",
      "\t43.\tac-3.yaml\n",
      "\t44.\tac-6.10.yaml\n",
      "\t45.\tsc-7.yaml\n",
      "\t46.\tac-6.9.yaml\n",
      "\t47.\tac-17.1.yaml\n"
     ]
    }
   ],
   "source": [
    "class Config:\n",
    "    today_format = '%Y-%m-%dT00:00:00.0000-04:00'\n",
    "    today = datetime.datetime.now().strftime(today_format)\n",
    "    control_list = list()\n",
    "    # Set Work-Paths e.g. build/py/system-security-plan/partials/template.ssp.yaml\n",
    "    partials_path = 'build/py/system-security-plan/partials'\n",
    "    # Read-In the Partials\n",
    "    partials = os.listdir(partials_path)\n",
    "    this_system_component_uuid = Helper.get_uuid()\n",
    "    ssp_controls=list()\n",
    "\n",
    "print(f'{len(Config.partials)=}')\n",
    "_x = [print(f'\\t{idx+1}.\\t{part}') for idx, part in enumerate(Config.partials)]"
   ]
  },
  {
   "cell_type": "code",
   "execution_count": 16,
   "metadata": {},
   "outputs": [
    {
     "name": "stdout",
     "output_type": "stream",
     "text": [
      "system-security-plan:\n",
      "  uuid: 511a5338-ef61-4f03-8fc1-536bc1287887\n",
      "\n",
      "  metadata:\n",
      "    title: BloSS@M Experimental System Security Plan\n",
      "    last-modified: '2022-12-21T00:00:00.0000-04:00'\n",
      "    version: 0.0.1\n",
      "    oscal-version: 1.0.4\n",
      "    roles:\n",
      "      - id: admin\n",
      "        title: Administrator\n",
      "    parties:\n",
      "      - uuid: 096c1453-5bef-438f-8109-157c7d3ee88b\n",
      "        type: person\n",
      "  \n",
      "  import-profile:\n",
      "    href: ./profile.yaml\n",
      "  \n",
      "  system-characteristics:\n",
      "    system-ids:\n",
      "      - id: saas_system_iaas_customer\n",
      "    system-name: Leveraging SaaS System\n",
      "    description: >\n",
      "      NO CONTENT HERE FOR NOW\n",
      "    security-sensitivity-level: low\n",
      "    system-information:\n",
      "      information-types:\n",
      "        - uuid: 7e84a805-33da-4c5c-bac1-c25c6d49bafd\n",
      "          title: System Assessment\n",
      "          description: This system handles development information pertaining to audit and assessment events to demonstrate the OSCAL workflow.\n",
      "          categorizations:\n",
      "            - system: https://doi.org/10.6028/NIST.SP.800-60v2r1\n",
      "              information-type-ids:\n",
      "                - C.3.5.1\n",
      "          confidentiality-impact:\n",
      "            base: fips-199-low\n",
      "          integrity-impact:\n",
      "            base: fips-199-low\n",
      "          availability-impact:\n",
      "            base: fips-199-low\n",
      "    security-impact-level:\n",
      "      security-objective-confidentiality: fips-199-low\n",
      "      security-objective-integrity: fips-199-low\n",
      "      security-objective-availability: fips-199-low\n",
      "    status:\n",
      "      state: operational\n",
      "    authorization-boundary:\n",
      "      description: This system is for demonstration purposes only.\n",
      "  \n",
      "  system-implementation:\n",
      "    users:\n",
      "      - uuid: 3e457b04-a7be-4a91-b9b7-71763e45e6e3\n",
      "        role-ids:\n",
      "          - admin\n",
      "        authorized-privileges:\n",
      "          - title: Developer\n",
      "            functions-performed:\n",
      "              - Manages the content and components within the system.\n",
      "    components:\n",
      "      - uuid: 54bf5bdb-ece2-4971-988c-dd10713341f9\n",
      "        type: this-system\n",
      "        title: OSCAL Testing Workflow Application\n",
      "        description: This is an application to demonstrate minimal OSCAL content, and automation to execute tests against the application.\n",
      "        props:\n",
      "          - name: implementation-point\n",
      "            value: internal\n",
      "        status:\n",
      "          state: under-development\n",
      "\n",
      "  \n",
      "  control-implementation:\n",
      "    description: \"List of Controls\"\n",
      "    implemented-requirements: []\n",
      "\n"
     ]
    },
    {
     "ename": "ValidationError",
     "evalue": "1 validation error for SystemSecurityPlan\nsystem-security-plan.controls\n  Field required [type=missing, input_value={'uuid': '511a5338-ef61-4...nted-requirements': []}}, input_type=dict]\n    For further information visit https://errors.pydantic.dev/2.6/v/missing",
     "output_type": "error",
     "traceback": [
      "\u001b[0;31m---------------------------------------------------------------------------\u001b[0m",
      "\u001b[0;31mValidationError\u001b[0m                           Traceback (most recent call last)",
      "Cell \u001b[0;32mIn[16], line 17\u001b[0m\n\u001b[1;32m     15\u001b[0m ssp_content \u001b[38;5;241m=\u001b[39m Template\u001b[38;5;241m.\u001b[39mapply(ssp_template, ssp_data)\n\u001b[1;32m     16\u001b[0m \u001b[38;5;28mprint\u001b[39m(ssp_content)\n\u001b[0;32m---> 17\u001b[0m ssp \u001b[38;5;241m=\u001b[39m \u001b[43mHelper\u001b[49m\u001b[38;5;241;43m.\u001b[39;49m\u001b[43mfrom_yaml\u001b[49m\u001b[43m(\u001b[49m\u001b[43mSSP\u001b[49m\u001b[43m,\u001b[49m\u001b[43m \u001b[49m\u001b[43mssp_content\u001b[49m\u001b[43m)\u001b[49m\n",
      "File \u001b[0;32m~/github/blossom-oscal/.venv/lib/python3.12/site-packages/oscalic/helpers.py:29\u001b[0m, in \u001b[0;36mHelper.from_yaml\u001b[0;34m(model, yaml_content, construct)\u001b[0m\n\u001b[1;32m     27\u001b[0m \u001b[38;5;28;01melse\u001b[39;00m:\n\u001b[1;32m     28\u001b[0m     \u001b[38;5;28;01mtry\u001b[39;00m:\n\u001b[0;32m---> 29\u001b[0m         result \u001b[38;5;241m=\u001b[39m \u001b[43mmodel\u001b[49m\u001b[43m(\u001b[49m\u001b[38;5;241;43m*\u001b[39;49m\u001b[38;5;241;43m*\u001b[39;49m\u001b[43mloaded_yaml\u001b[49m\u001b[43m)\u001b[49m\n\u001b[1;32m     30\u001b[0m     \u001b[38;5;28;01mexcept\u001b[39;00m Validation\u001b[38;5;241m.\u001b[39mOSCALValidationError \u001b[38;5;28;01mas\u001b[39;00m e:\n\u001b[1;32m     31\u001b[0m         \u001b[38;5;66;03m# print(f\"VALIDATION ERROR: {e.json()}\\n\")\u001b[39;00m\n\u001b[1;32m     32\u001b[0m         \u001b[38;5;28;01mraise\u001b[39;00m\n",
      "File \u001b[0;32m~/github/blossom-oscal/.venv/lib/python3.12/site-packages/pydantic/main.py:171\u001b[0m, in \u001b[0;36mBaseModel.__init__\u001b[0;34m(self, **data)\u001b[0m\n\u001b[1;32m    169\u001b[0m \u001b[38;5;66;03m# `__tracebackhide__` tells pytest and some other tools to omit this function from tracebacks\u001b[39;00m\n\u001b[1;32m    170\u001b[0m __tracebackhide__ \u001b[38;5;241m=\u001b[39m \u001b[38;5;28;01mTrue\u001b[39;00m\n\u001b[0;32m--> 171\u001b[0m \u001b[38;5;28;43mself\u001b[39;49m\u001b[38;5;241;43m.\u001b[39;49m\u001b[43m__pydantic_validator__\u001b[49m\u001b[38;5;241;43m.\u001b[39;49m\u001b[43mvalidate_python\u001b[49m\u001b[43m(\u001b[49m\u001b[43mdata\u001b[49m\u001b[43m,\u001b[49m\u001b[43m \u001b[49m\u001b[43mself_instance\u001b[49m\u001b[38;5;241;43m=\u001b[39;49m\u001b[38;5;28;43mself\u001b[39;49m\u001b[43m)\u001b[49m\n",
      "\u001b[0;31mValidationError\u001b[0m: 1 validation error for SystemSecurityPlan\nsystem-security-plan.controls\n  Field required [type=missing, input_value={'uuid': '511a5338-ef61-4...nted-requirements': []}}, input_type=dict]\n    For further information visit https://errors.pydantic.dev/2.6/v/missing"
     ]
    }
   ],
   "source": [
    "## Build the path to the SSP Template\n",
    "ssp_template = os.path.join(os.getcwd(), Config.partials_path, 'template.ssp.yaml')\n",
    "## Prepare the \n",
    "ssp_data = {\n",
    "    'uuid:document':        Helper.get_uuid(),\n",
    "    'uuid:statement':       Helper.get_uuid(),\n",
    "    'uuid:component':       Config.this_system_component_uuid, \n",
    "    'uuid:user':            Helper.get_uuid(),\n",
    "    'uuid:party':           Helper.get_uuid(), \n",
    "    'uuid:by-component':    Helper.get_uuid(), \n",
    "    'uuid:information-type':Helper.get_uuid(), \n",
    "    'version':              '0.0.1',\n",
    "    'modified_date':        f\"{Config.today}\",\n",
    "}\n",
    "ssp_content = Template.apply(ssp_template, ssp_data)\n",
    "print(ssp_content)\n",
    "ssp = Helper.from_yaml(SSP, ssp_content)"
   ]
  },
  {
   "cell_type": "code",
   "execution_count": 8,
   "metadata": {},
   "outputs": [],
   "source": [
    "# Profile build-up beginning\n",
    "\n",
    "profile_template = os.path.join(os.getcwd(), Config.partials_path, 'template.profile.yaml')\n",
    "profile_data = {\n",
    "    'uuid:document':        Helper.get_uuid(),\n",
    "    'uuid:statement':       Helper.get_uuid(),\n",
    "    'uuid:component-uuid':  Config.this_system_component_uuid, \n",
    "    'uuid:by-component':    Helper.get_uuid(),\n",
    "    'version':              '0.0.1',\n",
    "    'modified_date':        f\"{Config.today}\"\n",
    "}\n"
   ]
  },
  {
   "cell_type": "code",
   "execution_count": 10,
   "metadata": {},
   "outputs": [
    {
     "ename": "NameError",
     "evalue": "name 'ssp' is not defined",
     "output_type": "error",
     "traceback": [
      "\u001b[0;31m---------------------------------------------------------------------------\u001b[0m",
      "\u001b[0;31mNameError\u001b[0m                                 Traceback (most recent call last)",
      "Cell \u001b[0;32mIn[10], line 18\u001b[0m\n\u001b[1;32m     16\u001b[0m \u001b[38;5;28;01mtry\u001b[39;00m:\n\u001b[1;32m     17\u001b[0m     control \u001b[38;5;241m=\u001b[39m Helper\u001b[38;5;241m.\u001b[39mfrom_yaml(Control, partial_content)\n\u001b[0;32m---> 18\u001b[0m     \u001b[43mssp\u001b[49m\u001b[38;5;241m.\u001b[39msystem_security_plan\u001b[38;5;241m.\u001b[39mcontrol_implementation\u001b[38;5;241m.\u001b[39mimplemented_requirements\u001b[38;5;241m.\u001b[39mappend(control)\n\u001b[1;32m     19\u001b[0m     \u001b[38;5;28mprint\u001b[39m(\u001b[38;5;124mf\u001b[39m\u001b[38;5;124m\"\u001b[39m\u001b[38;5;124mSUCCESS: \u001b[39m\u001b[38;5;132;01m{\u001b[39;00mpartial_file\u001b[38;5;132;01m}\u001b[39;00m\u001b[38;5;124m\"\u001b[39m)\n\u001b[1;32m     20\u001b[0m \u001b[38;5;28;01mexcept\u001b[39;00m Validation\u001b[38;5;241m.\u001b[39mOSCALValidationError \u001b[38;5;28;01mas\u001b[39;00m e:\n",
      "\u001b[0;31mNameError\u001b[0m: name 'ssp' is not defined"
     ]
    }
   ],
   "source": [
    "for partial in Config.partials:\n",
    "    if partial.startswith('template.'):\n",
    "        continue\n",
    "\n",
    "    partial_file = os.path.join(os.getcwd(), Config.partials_path, partial)\n",
    "\n",
    "    uuid_content = {\n",
    "        'uuid:control':         Helper.get_uuid(),\n",
    "        'uuid:statement':       Helper.get_uuid(),\n",
    "        'uuid:component-uuid':  Config.this_system_component_uuid, \n",
    "        'uuid:by-component':    Helper.get_uuid(), \n",
    "    }\n",
    "\n",
    "    partial_content = Template.apply(partial_file, uuid_content)\n",
    "\n",
    "    try:\n",
    "        control = Helper.from_yaml(Control, partial_content)\n",
    "        ssp.system_security_plan.control_implementation.implemented_requirements.append(control)\n",
    "        print(f\"SUCCESS: {partial_file}\")\n",
    "    except Validation.OSCALValidationError as e:\n",
    "        print(f\"{partial_file}:\\nVALIDATION ERROR: {e.json()}\\n\")\n",
    "        error_condition = 1\n"
   ]
  },
  {
   "cell_type": "code",
   "execution_count": null,
   "metadata": {},
   "outputs": [],
   "source": [
    "###################################################################################################\n",
    "## Prepare Document\n",
    "profile_content = Template.apply(profile_template, profile_data)\n",
    "Path('Profile.output.yaml').write_text(profile_content)\n",
    "\n",
    "#%% Save SSP\n",
    "Path('SSP.output.yaml').write_text(Helper.to_yaml(ssp))\n",
    "\n",
    "# %%\n",
    "if error_condition:\n",
    "    exit(error_condition)"
   ]
  },
  {
   "cell_type": "code",
   "execution_count": 19,
   "metadata": {},
   "outputs": [
    {
     "name": "stdout",
     "output_type": "stream",
     "text": [
      "x['metadata']['link']['@href']='./other-blossom_moderate_profile.xml'\n",
      "x['metadata']['link']['@href']='./some-new-blossom_moderate_profile.xml'\n"
     ]
    }
   ],
   "source": [
    "x = {\n",
    "    'metadata':\n",
    "        {   #......\n",
    "            'link': {'@href':'./blossom_moderate_profile.xml',\n",
    "                     '@rel':'source-profile'\n",
    "                     },\n",
    "            'link': {'@href':'./other-blossom_moderate_profile.xml',\n",
    "                     '@rel':'source-profile'\n",
    "                     }\n",
    "         }    \n",
    "}\n",
    "\n",
    "print(f'{x['metadata']['link']['@href']=}')\n",
    "\n",
    "x['metadata']['link']['@href']='./some-new-blossom_moderate_profile.xml'\n",
    "# XPath '/metadata/link[last]/@href'\n",
    "\n",
    "print(f'{x['metadata']['link']['@href']=}')"
   ]
  }
 ],
 "metadata": {
  "kernelspec": {
   "display_name": ".venv",
   "language": "python",
   "name": "python3"
  },
  "language_info": {
   "codemirror_mode": {
    "name": "ipython",
    "version": 3
   },
   "file_extension": ".py",
   "mimetype": "text/x-python",
   "name": "python",
   "nbconvert_exporter": "python",
   "pygments_lexer": "ipython3",
   "version": "3.12.2"
  }
 },
 "nbformat": 4,
 "nbformat_minor": 2
}
